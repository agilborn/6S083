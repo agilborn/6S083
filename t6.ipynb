{
  "nbformat": 4,
  "nbformat_minor": 0,
  "metadata": {
    "colab": {
      "name": "Untitled1.ipynb",
      "provenance": [],
      "toc_visible": true,
      "authorship_tag": "ABX9TyMzfwVTFZC9ZaTn6Ku+xEwr",
      "include_colab_link": true
    },
    "kernelspec": {
      "name": "python3",
      "display_name": "Python 3"
    },
    "language_info": {
      "name": "python"
    }
  },
  "cells": [
    {
      "cell_type": "markdown",
      "metadata": {
        "id": "view-in-github",
        "colab_type": "text"
      },
      "source": [
        "<a href=\"https://colab.research.google.com/github/agilborn/6S083/blob/master/t6.ipynb\" target=\"_parent\"><img src=\"https://colab.research.google.com/assets/colab-badge.svg\" alt=\"Open In Colab\"/></a>"
      ]
    },
    {
      "cell_type": "markdown",
      "metadata": {
        "id": "B3k5_xkp69hm"
      },
      "source": [
        "\n",
        "\n",
        "This problem was asked by Microsoft\n",
        "\n",
        "---\n",
        "\n",
        "\n",
        "\n",
        "The transitive closure of a graph is a measure of which vertices are reachable from other vertices. It can be represented as a matrix M, where M[i][j] == 1 if there is a path between vertices i and j, and otherwise 0.\n",
        "\n",
        "For example, suppose we are given the following graph in adjacency list form:\n",
        "\n",
        "graph = [\n",
        "    [0, 1, 3],\n",
        "    [1, 2],\n",
        "    [2],\n",
        "    [3]\n",
        "]\n",
        "The transitive closure of this graph would be:\n",
        "\n",
        "[1, 1, 1, 1]\n",
        "[0, 1, 1, 0]\n",
        "[0, 0, 1, 0]\n",
        "[0, 0, 0, 1]\n",
        "Given a graph, find its transitive closure."
      ]
    },
    {
      "cell_type": "code",
      "metadata": {
        "id": "we6ATIBE7KlB"
      },
      "source": [
        ""
      ],
      "execution_count": null,
      "outputs": []
    },
    {
      "cell_type": "markdown",
      "metadata": {
        "id": "pCDLxgEo7sWM"
      },
      "source": [
        "# New Section"
      ]
    }
  ]
}